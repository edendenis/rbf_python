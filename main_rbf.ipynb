{
 "cells": [
  {
   "cell_type": "markdown",
   "metadata": {},
   "source": [
    "# Radial Basis Function (RBF)"
   ]
  },
  {
   "cell_type": "markdown",
   "metadata": {},
   "source": [
    "## 1. Pacote(s)\n",
    "\n",
    "### 1.1 Pacote(s) convencional(is)"
   ]
  },
  {
   "cell_type": "code",
   "execution_count": null,
   "metadata": {
    "scrolled": true
   },
   "outputs": [],
   "source": [
    "import time as time\n",
    "import numpy as np\n",
    "import pandas as pd\n",
    "import pickle as pkl\n",
    "# import winsound as winsound\n",
    "import warnings as warnings\n",
    "warnings.filterwarnings(\"ignore\")"
   ]
  },
  {
   "cell_type": "markdown",
   "metadata": {},
   "source": [
    "### 1.2 Pacote(s) personalizado(s)"
   ]
  },
  {
   "cell_type": "code",
   "execution_count": null,
   "metadata": {},
   "outputs": [],
   "source": [
    "from funcoes import fbr\n",
    "from funcoes import r_quadrado as rq\n",
    "from funcoes import gerar_relatorio_em_planilha as rep"
   ]
  },
  {
   "cell_type": "code",
   "execution_count": null,
   "metadata": {},
   "outputs": [],
   "source": [
    "# tempo_inicio: tempo de início da execução do código (processo)\n",
    "tempo_inicio = time.time()\n",
    "# tempo_inicio: tempo de início da execução do código (processo de cálculo, CPU)\n",
    "tempo_inicio_CPU = time.perf_counter()"
   ]
  },
  {
   "cell_type": "markdown",
   "metadata": {},
   "source": [
    "## 2. Carregamento, armazenamento e manipulação de dados\n",
    "\n",
    "### 2.1 Observações(ões)\n",
    "\n",
    "   Banco de dados deve estar estruturado da seguinte forma\n",
    "    \n",
    "    1. A primeira coluna deve ser de nomeação/identificação das lições;\n",
    "    2. As colunas seguintes devem ser as variáveis do problema, exceto a última;\n",
    "    3. A última deve ser a função."
   ]
  },
  {
   "cell_type": "markdown",
   "metadata": {},
   "source": [
    "### 2.2 Carregamento"
   ]
  },
  {
   "cell_type": "code",
   "execution_count": null,
   "metadata": {},
   "outputs": [],
   "source": [
    "# endereco = \"banco_de_dados/FBR de Três Variáveis e Dois Polos.xlsx\"\n",
    "# endereco = r\"banco_de_dados\\Incinerador e Oxigênio\\Fitness - Volume de Oxigênio Respirado 5 Pólos.xlsx\"\n",
    "# endereco = \"C:\\cpp\\jupyter_notebook\\rbf\\banco_de_dados\\Modelo de Crédito\"\n",
    "# endereco = \"C:\\cpp\\jupyter_notebook\\rbf\\banco_de_dados\\Número de produtos vendidos\"\n",
    "# endereco = \"C:\\cpp\\jupyter_notebook\\rbf\\banco_de_dados\\Porcus\"\n",
    "# endereco = \"C:\\cpp\\jupyter_notebook\\rbf\\banco_de_dados\\Produção de Cana-de-açúcar\"\n",
    "# endereco = \"C:\\cpp\\jupyter_notebook\\rbf\\banco_de_dados\\CREDITO MODELO.xlsm\"\n",
    "# endereco = \"C:\\cpp\\jupyter_notebook\\rbf\\banco_de_dados\\desktop.ini\"\n",
    "# endereco = r\"banco_de_dados\\DIAGNOSTICO.xlsm\"\n",
    "# endereco = \"C:\\cpp\\jupyter_notebook\\rbf\\banco_de_dados\\ext_major_world_indices_1_1_2015_ate_3_4_2020.xlsx\"\n",
    "# endereco = \"C:\\cpp\\jupyter_notebook\\rbf\\banco_de_dados\\FBR de Duas Variáveis e Dois Polos - Alterado.xlsx\"\n",
    "# endereco = \"C:\\cpp\\jupyter_notebook\\rbf\\banco_de_dados\\FBR de Duas Variáveis e Dois Polos.xlsx\"\n",
    "# endereco = \"C:\\cpp\\jupyter_notebook\\rbf\\banco_de_dados\\FBR de Três Variáveis e Dois Polos.xlsx\"\n",
    "# endereco = \"C:\\cpp\\jupyter_notebook\\rbf\\banco_de_dados\\FBR de Uma Variável e Dois Pólos.xlsx\"\n",
    "# endereco = \"C:\\cpp\\jupyter_notebook\\rbf\\banco_de_dados\\Função SOMAXMY2 - Exemplum.xlsm\"\n",
    "# endereco = \"C:\\cpp\\jupyter_notebook\\rbf\\banco_de_dados\\Função SOMAXMY2 - Function SUMXMY2.xlsm\"\n",
    "# endereco = \"C:\\cpp\\jupyter_notebook\\rbf\\banco_de_dados\\Incinerador.xlsx\"\n",
    "# endereco = \"C:\\cpp\\jupyter_notebook\\rbf\\banco_de_dados\\Planilha antiga da apostila.xlsm\"\n",
    "# endereco = \"C:\\cpp\\jupyter_notebook\\rbf\\banco_de_dados\\Porcus.xlsx\"\n",
    "# endereco = \"C:\\cpp\\jupyter_notebook\\rbf\\banco_de_dados\\TESTE_NAO_CONSIDERAR_ext_mwi_1_1_2015_ate_3_4_2020.xlsx\"\n",
    "# endereco = \"C:\\cpp\\jupyter_notebook\\rbf\\banco_de_dados\\turbinas_60_licoes.xlsm\"\n",
    "endereco = r\"/home/edendfsls/turbinas_60_licoes.xlsx\"\n",
    "\n",
    "endereco = r\"/home/edendenis/turbinas_60_licoes.xlsx\"\n",
    "\n",
    "banco_de_dados = pd.read_excel(endereco, \n",
    "                               sheet_name = 0)\n",
    "banco_de_dados.head()"
   ]
  },
  {
   "cell_type": "markdown",
   "metadata": {},
   "source": [
    "### 2.3 Manipulação"
   ]
  },
  {
   "cell_type": "code",
   "execution_count": null,
   "metadata": {
    "scrolled": true
   },
   "outputs": [],
   "source": [
    "bd_auxiliar = banco_de_dados.copy()\n",
    "bd_auxiliar.shape"
   ]
  },
  {
   "cell_type": "markdown",
   "metadata": {},
   "source": [
    "## 3. Variável(is)"
   ]
  },
  {
   "cell_type": "code",
   "execution_count": null,
   "metadata": {
    "scrolled": true
   },
   "outputs": [],
   "source": [
    "# num_da_funcao: número codigo da função escolhida\n",
    "num_da_funcao = int(input(\"Digitar o 'Número da Função' = \\n\\n\" \n",
    "                          \"1 - M: Multiquadrática;\\n\" \n",
    "                          \"2 - MR: Multiquadrática Recíproca;\\n\"\n",
    "                          \"3 - MRI: Multiquadrática Recíproca Inversa;\\n\"\n",
    "                          \"4 - G: Gaussiana;\\n\"\n",
    "                          \"5 - SH: Secante Hiperbólica;\\n\"\n",
    "                          \"6 - CH: Cosseno Hiperbólico;\\n\"\n",
    "                          \"7 - SPF: Splines de Placas Finas.\\n\\n\"\n",
    "                          \"Resposta = \"))\n",
    "\n",
    "print(\"\")\n",
    "print(\"Função de Base Radial = \" + \n",
    "      fbr.fbr_descricao(num_da_funcao))"
   ]
  },
  {
   "cell_type": "code",
   "execution_count": null,
   "metadata": {},
   "outputs": [],
   "source": [
    "# tipo_da_saida = Tipo de saída dos dados (int, float ou bool) da função \n",
    "# experimental\n",
    "tipo_da_saida = \"Decimal\"\n",
    "print(\"Tipo de saída: \" + str(tipo_da_saida))"
   ]
  },
  {
   "cell_type": "markdown",
   "metadata": {},
   "source": [
    "## 4. Cálculo(s)"
   ]
  },
  {
   "cell_type": "code",
   "execution_count": null,
   "metadata": {},
   "outputs": [],
   "source": [
    "# Remover a primeira coluna:\n",
    "bd_auxiliar = bd_auxiliar.drop([bd_auxiliar.columns[0]],\n",
    "                               axis = 1)\n",
    "bd_auxiliar.head()"
   ]
  },
  {
   "cell_type": "code",
   "execution_count": null,
   "metadata": {},
   "outputs": [],
   "source": [
    "bd_auxiliar.shape"
   ]
  },
  {
   "cell_type": "code",
   "execution_count": null,
   "metadata": {},
   "outputs": [],
   "source": [
    "# NÃO COPIAR O CÓDIGO DENTRO DESTA CÉLULA!!!\n",
    "# NÃO COPIAR O CÓDIGO DENTRO DESTA CÉLULA!!!\n",
    "# NÃO COPIAR O CÓDIGO DENTRO DESTA CÉLULA!!!\n",
    "\n",
    "# def rbf(banco_de_dados,\n",
    "#         fbr,\n",
    "#         tipo_da_saida,\n",
    "#         tolerancia):\n",
    "#     \"\"\"\n",
    "#     Esta função retorna os resulta do Radial Basis Function.\n",
    "    \n",
    "#     :param banco_de_dados: Banco de dados\n",
    "#     (somente os valores válidos para o cálculo).\n",
    "#     :param fbr: Função de base radial escolhida para o ajuste.\n",
    "#     :param tipo_da_saida: Tipo de saída dos dados (int, float ou bool) \n",
    "#     da função experimental\n",
    "#     :param tolerancia: Tolerância para a separação dos outliers.\n",
    "#     :return: Função teórica\n",
    "#     \"\"\""
   ]
  },
  {
   "cell_type": "code",
   "execution_count": null,
   "metadata": {},
   "outputs": [],
   "source": [
    "# Manter repetitividade dos números pseudo-aleatórios:\n",
    "np.random.seed(42)"
   ]
  },
  {
   "cell_type": "code",
   "execution_count": null,
   "metadata": {},
   "outputs": [],
   "source": [
    "# num_de_licoes = Número de lições para o aprendizado\n",
    "num_de_licoes = bd_auxiliar.shape[0]\n",
    "print(\"'Número total de lições' = \" + str(num_de_licoes))"
   ]
  },
  {
   "cell_type": "code",
   "execution_count": null,
   "metadata": {},
   "outputs": [],
   "source": [
    "# num_de_variaveis = Número de variáveis\n",
    "num_de_variaveis = bd_auxiliar.shape[1] - 1\n",
    "print(\"'Número total de variáveis' = \" + str(num_de_variaveis))"
   ]
  },
  {
   "cell_type": "code",
   "execution_count": null,
   "metadata": {},
   "outputs": [],
   "source": [
    "# nome_das_variaveis = Vector do nome das variáveis\n",
    "nome_das_variaveis = bd_auxiliar.columns\n",
    "nome_das_variaveis = pd.Series(nome_das_variaveis)\n",
    "pd.DataFrame(nome_das_variaveis)"
   ]
  },
  {
   "cell_type": "code",
   "execution_count": null,
   "metadata": {},
   "outputs": [],
   "source": [
    "nome_das_variaveis = nome_das_variaveis.drop(num_de_variaveis,\n",
    "                                             axis = 0)\n",
    "pd.DataFrame(nome_das_variaveis)"
   ]
  },
  {
   "cell_type": "code",
   "execution_count": null,
   "metadata": {},
   "outputs": [],
   "source": [
    "# nome_da_functus = Nome da função experimental\n",
    "nome_da_functus = bd_auxiliar.columns[num_de_variaveis]\n",
    "print(\"Nome do Fenômeno de Retorno = \" + str(nome_da_functus))"
   ]
  },
  {
   "cell_type": "code",
   "execution_count": null,
   "metadata": {},
   "outputs": [],
   "source": [
    "# variaveis = Matrix de variáveis\n",
    "variaveis = bd_auxiliar.drop(bd_auxiliar.columns[num_de_variaveis],\n",
    "                             axis = 1)\n",
    "variaveis.head()"
   ]
  },
  {
   "cell_type": "code",
   "execution_count": null,
   "metadata": {},
   "outputs": [],
   "source": [
    "# A = Vector de aprendizagem [A], NÃO confundir\n",
    "# com a matrix [A] de [A]{x} = {b}\n",
    "A = bd_auxiliar.iloc[:, num_de_variaveis]\n",
    "pd.DataFrame(A)"
   ]
  },
  {
   "cell_type": "code",
   "execution_count": null,
   "metadata": {},
   "outputs": [],
   "source": [
    "# y_exp = Functus experimental\n",
    "y_exp = A.copy()\n",
    "pd.DataFrame(y_exp)"
   ]
  },
  {
   "cell_type": "code",
   "execution_count": null,
   "metadata": {},
   "outputs": [],
   "source": [
    "# media_da_functus_exp = Média da functus experimental\n",
    "media_da_functus_exp = np.mean(y_exp)\n",
    "print(\"Média da functus experimental = \" + \\\n",
    "      str(round(media_da_functus_exp, 2)))"
   ]
  },
  {
   "cell_type": "code",
   "execution_count": null,
   "metadata": {},
   "outputs": [],
   "source": [
    "# Coordenada dos Polos:\n",
    "# num_de_polos = Número de polos\n",
    "if num_de_variaveis == 1:\n",
    "    num_de_polos = num_de_variaveis + 1\n",
    "elif num_de_variaveis != 1:\n",
    "    num_de_polos = num_de_variaveis\n",
    "print(\"Número de Polos = \" + str(num_de_polos))"
   ]
  },
  {
   "cell_type": "code",
   "execution_count": null,
   "metadata": {},
   "outputs": [],
   "source": [
    "# C: matrix com os vectors de Coordenada dos Polos\n",
    "C = np.zeros((num_de_polos, num_de_variaveis),\n",
    "             dtype = float)\n",
    "pd.DataFrame(C)"
   ]
  },
  {
   "cell_type": "code",
   "execution_count": null,
   "metadata": {},
   "outputs": [],
   "source": [
    "# lim_inf: limite inferior\n",
    "lim_inf = np.min(np.array(variaveis))\n",
    "print(\"Limite inferior = \" + str(round(lim_inf, 2)))"
   ]
  },
  {
   "cell_type": "code",
   "execution_count": null,
   "metadata": {},
   "outputs": [],
   "source": [
    "# lim_sup: limite superior\n",
    "lim_sup = np.max(np.array(variaveis))\n",
    "print(\"Limite superior = \" + str(round(lim_sup, 2)))"
   ]
  },
  {
   "cell_type": "code",
   "execution_count": null,
   "metadata": {},
   "outputs": [],
   "source": [
    "# Manter repetitividade dos números pseudo-aleatórios:\n",
    "# np.random.seed(42)\n",
    "C = np.random.rand(num_de_polos, num_de_variaveis) * \\\n",
    "    (lim_sup - lim_inf) + lim_inf\n",
    "pd.DataFrame(C)"
   ]
  },
  {
   "cell_type": "code",
   "execution_count": null,
   "metadata": {},
   "outputs": [],
   "source": [
    "\"\"\"\n",
    "É conveniente ter pelo menos um polo na origem O, pois\n",
    "isso faz com que o modelo retorne uma Coeficiente de \n",
    "Acerto (R ** 2) possivelmente maior. Logo:\n",
    "\"\"\"\n",
    "C[0] = 0\n",
    "pd.DataFrame(C)"
   ]
  },
  {
   "cell_type": "code",
   "execution_count": null,
   "metadata": {},
   "outputs": [],
   "source": [
    "# dist_entre_os_polos: distância entre os polos\n",
    "dist_entre_os_polos = np.zeros((num_de_polos, num_de_polos),\n",
    "                               dtype = float)\n",
    "pd.DataFrame(dist_entre_os_polos)  "
   ]
  },
  {
   "cell_type": "code",
   "execution_count": null,
   "metadata": {},
   "outputs": [],
   "source": [
    "for i in range(0, num_de_polos, 1):\n",
    "    for j in range(0, num_de_polos, 1):\n",
    "        dist_entre_os_polos[i, j] = \\\n",
    "        np.linalg.norm(C[i] - C[j])\n",
    "pd.DataFrame(dist_entre_os_polos)"
   ]
  },
  {
   "cell_type": "code",
   "execution_count": null,
   "metadata": {},
   "outputs": [],
   "source": [
    "# Cálculos Diversos:\n",
    "# dps_max: distância máxima entre os polos\n",
    "dps_max = np.max(dist_entre_os_polos)\n",
    "print(\"Distância máxima entre os polos = \" + str(round(dps_max, 2)))"
   ]
  },
  {
   "cell_type": "code",
   "execution_count": null,
   "metadata": {},
   "outputs": [],
   "source": [
    "# sigma: desvio-padrão\n",
    "sigma = dps_max / np.sqrt(2 * num_de_polos)\n",
    "print(\"Sigma (desvio-padrão) = \" + str(round(sigma, 2)))"
   ]
  },
  {
   "cell_type": "code",
   "execution_count": null,
   "metadata": {
    "scrolled": false
   },
   "outputs": [],
   "source": [
    "variaveis = np.array(variaveis)\n",
    "pd.DataFrame(variaveis).head()"
   ]
  },
  {
   "cell_type": "code",
   "execution_count": null,
   "metadata": {},
   "outputs": [],
   "source": [
    "\"\"\"\n",
    "Os objetos estão sendo salvos para NÃO ter que\n",
    "executar todo o código novamente, simplemente\n",
    "para executar uma function ou fazer um servidor\n",
    "ler o arquivo gerado:\n",
    "\"\"\"\n",
    "pkl.dump([num_da_funcao,\n",
    "          variaveis, \n",
    "          C, \n",
    "          sigma], \n",
    "         open(\"pickles/objetos_matrix_R.pkl\", \"wb\"), protocol = 4)"
   ]
  },
  {
   "cell_type": "code",
   "execution_count": null,
   "metadata": {},
   "outputs": [],
   "source": [
    "# Matrix [R]:\n",
    "# R: Matrix de Base Radial [R]\n",
    "R = np.zeros((num_de_licoes, num_de_polos), \n",
    "             dtype = float)\n",
    "for n in range(0, num_de_licoes, 1):\n",
    "    for i in range(0, num_de_polos, 1):\n",
    "        R[n, i] = fbr.fbr(num_da_funcao,\n",
    "                          variaveis[n],\n",
    "                          C[i],\n",
    "                          sigma)\n",
    "pd.DataFrame(R)"
   ]
  },
  {
   "cell_type": "code",
   "execution_count": null,
   "metadata": {
    "scrolled": true
   },
   "outputs": [],
   "source": [
    "# É necessário acrescentar na matrix [R] um coluna com um's, logo:\n",
    "# vector_unitario: vector de uns\n",
    "vector_unitario = np.ones((num_de_licoes, 1),\n",
    "                          dtype = float)\n",
    "pd.DataFrame(vector_unitario)"
   ]
  },
  {
   "cell_type": "code",
   "execution_count": null,
   "metadata": {},
   "outputs": [],
   "source": [
    "R = np.hstack((R, vector_unitario))\n",
    "pd.DataFrame(R)"
   ]
  },
  {
   "cell_type": "code",
   "execution_count": null,
   "metadata": {},
   "outputs": [],
   "source": [
    "# Matrix [R] ** t\n",
    "# Rt: Transposta da matrix [R]\n",
    "Rt = np.transpose(R)\n",
    "pd.DataFrame(Rt)"
   ]
  },
  {
   "cell_type": "code",
   "execution_count": null,
   "metadata": {},
   "outputs": [],
   "source": [
    "# Matrix [R] ** t . [R]\n",
    "# RtR: Transposta da matrix [R] vezes [R]\n",
    "RtR = np.matmul(Rt, R)\n",
    "pd.DataFrame(RtR)"
   ]
  },
  {
   "cell_type": "code",
   "execution_count": null,
   "metadata": {},
   "outputs": [],
   "source": [
    "# Matrix ([R] ** t .[R]) ** (-1)\n",
    "# RtRinv: Inversa de [R] ** t * [R]\n",
    "RtRinv = np.linalg.inv(RtR)\n",
    "pd.DataFrame(RtRinv)"
   ]
  },
  {
   "cell_type": "code",
   "execution_count": null,
   "metadata": {
    "scrolled": true
   },
   "outputs": [],
   "source": [
    "# Matrix (([R] ** t . [R]) ** (-1)) . [R] ** t\n",
    "# mpi: Matrix Pseudo-Inversa (MPI)\n",
    "mpi = np.matmul(RtRinv, Rt)\n",
    "pd.DataFrame(mpi)"
   ]
  },
  {
   "cell_type": "code",
   "execution_count": null,
   "metadata": {
    "scrolled": true
   },
   "outputs": [],
   "source": [
    "# Solução: [VS] = (1 / [R]) . [A]\n",
    "A = np.array(A) # Apenas para garantir que a função 'np.matmul' execute.\n",
    "# VS: Vector com o valor das sinapses (VS)\n",
    "VS = np.matmul(mpi, A)\n",
    "pd.DataFrame(VS)\n",
    "# Aqui termina o RBF"
   ]
  },
  {
   "cell_type": "markdown",
   "metadata": {},
   "source": [
    "## 5. Resultado(s)"
   ]
  },
  {
   "cell_type": "code",
   "execution_count": null,
   "metadata": {},
   "outputs": [],
   "source": [
    "y_teo = np.zeros(len(variaveis),\n",
    "                dtype = float)\n",
    "for i in range(0, len(variaveis), 1):\n",
    "    y_teo[i] = sum(VS * R[i])\n",
    "pd.DataFrame(y_teo)"
   ]
  },
  {
   "cell_type": "code",
   "execution_count": null,
   "metadata": {},
   "outputs": [],
   "source": [
    "# R_quadrado: Coeficiente de Acerto/Determinação/Estatístico R ** 2\n",
    "R_quadrado = rq.r_quadrado(y_exp,\n",
    "                           y_teo)\n",
    "print(\"R ** 2 = \" + str(round(R_quadrado * 100, 2)) + str(\" %\"))"
   ]
  },
  {
   "cell_type": "code",
   "execution_count": null,
   "metadata": {},
   "outputs": [],
   "source": [
    "# Criação do Formulário:\n",
    "endereco = endereco.replace(\"banco_de_dados/\", \"\")\n",
    "endereco = endereco.replace(\".xlsx\", \"\")\n",
    "endereco = endereco.replace(\"\\\\\", \"_\")\n",
    "endereco"
   ]
  },
  {
   "cell_type": "code",
   "execution_count": null,
   "metadata": {},
   "outputs": [],
   "source": [
    "\"\"\"\n",
    "Os objetos estão sendo salvos para NÃO ter que\n",
    "executar todo o código novamente, simplemente\n",
    "para executar uma function ou fazer um servidor\n",
    "ler o arquivo gerado:\n",
    "\"\"\"\n",
    "pkl.dump([endereco, \n",
    "          nome_das_variaveis, \n",
    "          nome_da_functus,\n",
    "          num_da_funcao,\n",
    "          C, \n",
    "          sigma, \n",
    "          VS,\n",
    "          R_quadrado,\n",
    "          tipo_da_saida], \n",
    "         open(\"pickles/objetos_rep.pkl\", \"wb\"), protocol = 4)"
   ]
  },
  {
   "cell_type": "code",
   "execution_count": null,
   "metadata": {},
   "outputs": [],
   "source": [
    "! pip install xlsxwriter"
   ]
  },
  {
   "cell_type": "code",
   "execution_count": null,
   "metadata": {},
   "outputs": [],
   "source": [
    "endereco"
   ]
  },
  {
   "cell_type": "code",
   "execution_count": null,
   "metadata": {},
   "outputs": [],
   "source": [
    "# Gerar relatório em planilha:\n",
    "rep.gerar_relatorio_em_planilha(endereco,\n",
    "                               nome_das_variaveis,\n",
    "                               nome_da_functus,\n",
    "                               num_da_funcao,\n",
    "                               C,\n",
    "                               sigma,\n",
    "                               VS,\n",
    "                               R_quadrado,\n",
    "                               tipo_da_saida)"
   ]
  },
  {
   "cell_type": "code",
   "execution_count": null,
   "metadata": {},
   "outputs": [],
   "source": []
  }
 ],
 "metadata": {
  "kernelspec": {
   "display_name": "Python 3",
   "language": "python",
   "name": "python3"
  },
  "language_info": {
   "codemirror_mode": {
    "name": "ipython",
    "version": 3
   },
   "file_extension": ".py",
   "mimetype": "text/x-python",
   "name": "python",
   "nbconvert_exporter": "python",
   "pygments_lexer": "ipython3",
   "version": "3.11.3"
  }
 },
 "nbformat": 4,
 "nbformat_minor": 2
}
