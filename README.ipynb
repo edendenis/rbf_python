{
 "cells": [
  {
   "cell_type": "markdown",
   "metadata": {},
   "source": [
    "# Radial Basis Function Neural Networks (RBFNN)"
   ]
  },
  {
   "cell_type": "markdown",
   "metadata": {},
   "source": [
    "## Resumo\n",
    "\n",
    "Aplicação computacional de Redes Neurais de Função de Base Radial (RBFNN) eu empregam funções de base radial em camadas ocultas, modelando com eficiência relacionamentos não lineares complexos em dados. Sua arquitetura exclusiva permite aproximação, classificação e regressão precisas de funções, tornando-os versáteis e eficazes em vários domínios.\n",
    "\n",
    "O treinamento matemático moderno supervisionado por computadores possibilitou análises sofisticadas, usando esses conceitos podemos relacionar valores de entrada com seus respectivos valores de saída. Tratados de forma específica, segundo Redes Neurais Artificiais (RNA), o software RBF possibilita a previsão de valores (lucro, custo, produção, consumo de energia, quantidade de produtos que serão solicitados por uma empresa/cli-\n",
    "ente, entre outros) com uma eficiência extrema.\n",
    "\n",
    "## _Abstract_\n",
    "\n",
    "_Computational Application of Radial Basis Function Neural Networks (RBFNN) I employ radial basis functions in hidden layers, efficiently modeling complex nonlinear relationships in data. Their unique architecture enables accurate function approximation, classification, and regression, making them versatile and effective across multiple domains._\n",
    "\n",
    "_Modern mathematical training supervised by computers has enabled sophisticated analysis, using these concepts we can relate input values to their respective output values. Treated specifically, according to Artificial Neural Networks (ANN), the RBF software makes it possible to predict values (profit, cost, production, energy consumption, quantity of products that will be requested by a company/client, among others) with efficiency extreme._"
   ]
  },
  {
   "cell_type": "markdown",
   "metadata": {},
   "source": [
    "## Revisão(ões)/Versão(ões)\n",
    "\n",
    "| Revisão número | Data da revisão | Descrição da revisão                                    | Autor da revisão                                |\n",
    "|:--------------:|:---------------:|:--------------------------------------------------------|:------------------------------------------------|\n",
    "| 0              | 01/09/2022      | <ul><li>Revisão inicial/criação do documento.</li></ul> | <ul><li>Eden Denis F. da S. L. Santos</li></ul> |\n"
   ]
  },
  {
   "cell_type": "markdown",
   "metadata": {},
   "source": [
    "## 1. Como executar a aplicação\n",
    "\n",
    "1. Abrir o arquivo `main_<nome_da_aplicacao>.ipynb` o qual está com comentários, alterar o banco de dados (existem exemplos de bancos de dados) na pasta que deverá ser utilizado para a execução e executar todas as células. \n",
    "    \n",
    "    Perceber que o <nome_da_aplicacao> trata-se, redudantemente, do nome da aplicação. Coloquei desta forma, pois quis, por ora, generalizar o arquivo `README.md` para poder criar o repositório de cada uma das aplicações que desenvolvi ao longo da minha carreira."
   ]
  },
  {
   "cell_type": "markdown",
   "metadata": {},
   "source": [
    "## Referências\n",
    "\n",
    "[1]\tBROOMHEAD, D.; LOWE, D. Lowe. ***Multivariable functional interpolation and adaptive networks: complex systems***. .2, P. 321, 1988.  \n",
    "\n",
    "[4] SLIM, C.; TRABELSI, A.. ***Redes neurais para modelagem de séries temporais não lineares: uma nova abordagem.***\n",
    "\n",
    "\n",
    "[6] HAYKIN, S.. ***Redes neurais: princípios e prática***. Tradução de Paulo Martins Engel. 2. ed. Porto Alegre: Bookman, 2001.\n",
    "\n",
    "[5] BARONE, D. A. C.. ***Sociedades artificiais: a nova fronteira da inteligência nas máquinas***. Porto Alegre: Bookman, 2003.\n",
    "\n",
    "[7] HEBB, D. O.. ***Brain mechanisms and learning***. London: J. F. Delafresnaye, 1961.\n",
    "\n",
    "[8] MÁSSON, E.; WANG, Y.. ***Introduction to computation and learning in artificial neural networks***. European Journal of Operational Research, North-Holland, v. 47, 1990.\n",
    "\n",
    "[1] RICIERI, A. P.; SANTOS, E. D. F. da S. L.. ***Radial basis function***. Prandiano e EDF Tecnologia, São Paulo, 2013.\n",
    "\n",
    "[2] SANTOS, E. D. F. da S. L.. ***Curso de python: radial basis function***. Prandiano e EDF Tecnologia, São Paulo, 2013.\n",
    "\n",
    "[9] Universidade de São Paulo, Insituto de Ciências Matemáticas e de Computação. ***Redes neurais artificiais:*** Disponível em: <http://www.icmc.usp.br/pessoas/andre/research/neural/>.  Acessado em: 02/05/2014.\n",
    "\n",
    "[10] Universidade Estadual de Maringá, Departamento de Informática. ***Neurais:*** Disponível em: <http://www.din.uem.br/ia/neurais/>. Acessado em: 09/05/2014.\n",
    "\n",
    "[11] SANTOS, E. D. F. da S. L.; T., G. G.; MANCINI, W. D.. ***Comunicação da informação nas redes neurais artificiais***. Disciplina: BC0506 Comunicação e Redes. Prof. Dr. Itana Stiubiener. Santo André, SP, Brasil, 09 de maio de 2014.\n",
    "\n",
    "[12] SANTOS, E. D. F. da S. L.. ***Projeto dirigido: funções de base radial.*** Universidade Federal do ABC (UFABC), Santo André, 2014.\n"
   ]
  },
  {
   "cell_type": "markdown",
   "metadata": {},
   "source": []
  }
 ],
 "metadata": {
  "kernelspec": {
   "display_name": "Python 3 (ipykernel)",
   "language": "python",
   "name": "python3"
  },
  "language_info": {
   "codemirror_mode": {
    "name": "ipython",
    "version": 3
   },
   "file_extension": ".py",
   "mimetype": "text/x-python",
   "name": "python",
   "nbconvert_exporter": "python",
   "pygments_lexer": "ipython3",
   "version": "3.11.5"
  }
 },
 "nbformat": 4,
 "nbformat_minor": 2
}
