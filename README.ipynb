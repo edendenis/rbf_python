{
 "cells": [
  {
   "cell_type": "markdown",
   "id": "54d6fe95",
   "metadata": {},
   "source": [
    "<!-- ESCUDOS DO PROJETO -->\n",
    "<p align=\"center\">\n",
    "  <img src=\"https://img.shields.io/github/contributors/edendenis/rbf_python.svg?style=flat-square\" alt=\"Contribuidores\">\n",
    "  <img src=\"https://img.shields.io/github/forks/edendenis/rbf_python.svg?style=flat-square\" alt=\"Forks\">\n",
    "  <img src=\"https://img.shields.io/github/stars/edendenis/rbf_python.svg?style=flat-square\" alt=\"Estrelas\">\n",
    "  <img src=\"https://img.shields.io/github/issues/edendenis/rbf_python.svg?style=flat-square\" alt=\"Issues\">\n",
    "  <img src=\"https://img.shields.io/github/license/edendenis/rbf_python.svg?style=flat-square\" alt=\"Licença MIT\">\n",
    "  <a href=\"https://www.linkedin.com/in/seu_linkedin\"><img src=\"https://img.shields.io/badge/-LinkedIn-blue.svg?style=flat-square&logo=linkedin&colorB=555\" alt=\"LinkedIn\"></a>\n",
    "</p>\n"
   ]
  },
  {
   "cell_type": "markdown",
   "id": "7d2b64e7",
   "metadata": {},
   "source": [
    "<!-- LOGOTIPO DO PROJETO -->\n",
    "<div style=\"display: flex; justify-content: center;\">\n",
    "   <a href=\"https://github.com/othneildrew/Best-README-Template\">\n",
    "     <img src=\"figures/logotipo_edf_vetorizado_fundo_roxo_e_nome.png\" alt=\"Logo\" width=\"80\" height=\"80\">\n",
    "   </a>\n",
    "</div>\n",
    "\n",
    "<h3 align=\"center\">EDF Radial Basis Function (RBF) Python</h3>\n",
    "\n",
    "<div style=\"display: flex; justify-content: center;\">\n",
    "  <a href=\"https://zenodo.org/doi/10.5281/zenodo.10668855\">\n",
    "    <img src=\"https://zenodo.org/badge/758237447.svg\" alt=\"DOI\">\n",
    "  </a>\n",
    "</div>\n",
    "\n",
    "<p align=\"center\">\n",
    " Aplicação computacional de Redes Neurais de Função de Base Radial (RNFBR) as quais empregam funções de base radial em camadas ocultas, modelando com eficiência relacionamentos não lineares complexos em dados. Sua arquitetura exclusiva permite aproximação, classificação e regressão precisas de funções, tornando-os versáteis e eficazes em vários domínios.\n",
    " <br />\n",
    " <a href=\"https://github.com/edendenis/rfbnn\"><strong>Explore os documentos »</strong></a>\n",
    " <br />\n",
    " <br />\n",
    " <a href=\"https://github.com/edendenis/rfbnn\">Ver demonstração</a>\n",
    " ·\n",
    " <a href=\"https://github.com/edendenis/rfbnn\">Relatar bug</a>\n",
    " ·\n",
    " <a href=\"https://github.com/edendenis/rfbnn\">Solicitar recurso</a>\n",
    "</p>\n"
   ]
  },
  {
   "cell_type": "markdown",
   "id": "341e58b3",
   "metadata": {},
   "source": [
    "## Resumo\n",
    "\n",
    "Aplicação computacional de Redes Neurais de Função de Base Radial (RNFBR) as quais empregam funções de base radial em camadas ocultas, modelando com eficiência relacionamentos não lineares complexos em dados. Sua arquitetura exclusiva permite aproximação, classificação e regressão precisas de funções, tornando-os versáteis e eficazes em vários domínios.\n",
    "\n",
    "## _Abstract_\n",
    "\n",
    "_Computational Application of Radial Basis Function Neural Networks (RBFNN) I employ radial basis functions in hidden layers, efficiently modeling complex nonlinear relationships in data. Their unique architecture enables accurate function approximation, classification, and regression, making them versatile and effective across multiple domains._\n",
    "\n",
    "<p align=\"right\">(<a href=\"#readme-top\">voltar ao topo</a>)</p>"
   ]
  },
  {
   "cell_type": "markdown",
   "id": "91447e05",
   "metadata": {},
   "source": [
    "## Revisão(ões)/Versão(ões)\n",
    "\n",
    "| Revisão número | Data da revisão | Descrição da revisão                                    | Autor da revisão                                |\n",
    "|:--------------:|:---------------:|:--------------------------------------------------------|:------------------------------------------------|\n",
    "| 0              | 15/09/2022      | <ul><li>Revisão inicial/criação do documento.</li></ul> | <ul><li>Eden Denis F. da S. L. Santos</li></ul> |\n",
    "\n",
    "<p align=\"right\">(<a href=\"#readme-top\">voltar ao topo</a>)</p>\n"
   ]
  },
  {
   "cell_type": "markdown",
   "id": "ccbdffd2",
   "metadata": {},
   "source": [
    "### Construído com\n",
    "\n",
    "Esta seção deve listar todas as principais estruturas/bibliotecas usadas para inicializar seu projeto. Deixe quaisquer complementos/plugins para a seção de agradecimentos. Aqui estão alguns exemplos.\n",
    "\n",
    "* [![Python](https://img.shields.io/badge/Python-3776AB?style=flat-square&logo=python&logoColor=white)](https://www.python.org/)\n",
    "* [![Anaconda](https://img.shields.io/badge/Anaconda-44A833?style=flat-square&logo=anaconda&logoColor=white)](https://www.anaconda.com/)\n",
    "\n",
    "<p align=\"right\">(<a href=\"#readme-top\">voltar ao topo</a>)</p>"
   ]
  },
  {
   "cell_type": "markdown",
   "id": "d7d025be",
   "metadata": {},
   "source": [
    "<!-- COMEÇANDO -->\n",
    "## 1.1 Começando\n",
    "\n",
    "Este é um exemplo de como você pode dar instruções sobre como configurar seu projeto localmente.\n",
    "Para obter uma cópia local instalada e funcionando, siga estas etapas simples de exemplo.\n",
    "\n",
    "### 1.2 Pré-requisitos\n",
    "\n",
    "Este é um exemplo de como listar os itens necessários para usar o software e como instalá-los.\n",
    "* Python 3.8\n",
    "* Anaconda 24.1.0\n",
    "* Git\n",
    "* IDE para executar o arquivo `.ipynb` (PyCharm, Spyder, VS Code etc.)\n",
    "\n",
    "<p align=\"right\">(<a href=\"#readme-top\">voltar ao topo</a>)</p>\n"
   ]
  },
  {
   "cell_type": "markdown",
   "id": "80ec859e",
   "metadata": {},
   "source": [
    "## 2. Guia de instalação\n",
    "\n",
    "### 2.1 Instalar o Git\n",
    "\n",
    "Verifique se você tem o Git instalado no seu computador. Se não tiver, você pode baixá-lo e instalá-lo a partir do site oficial do Git: https://git-scm.com/downloads\n",
    "\n",
    "Abra o Git Bash. Você pode fazer isso clicando com o botão direito do mouse em qualquer diretório e selecionando a opção \"Git Bash Here\" no menu de contexto.\n",
    "\n",
    "<p align=\"right\">(<a href=\"#readme-top\">voltar ao topo</a>)</p>"
   ]
  },
  {
   "cell_type": "markdown",
   "id": "4cfb9051",
   "metadata": {},
   "source": [
    "### 2.2 Criar chave SSH para a conta do usuário [1]\n",
    "\n",
    "#### 2.2.1 Verificar se foi liberado o acesso ao Git\n",
    "\n",
    "Antes de seguir os passos de uma das Seções abaixo (Linux e/ou Windows), confirmar com um dos administradores do Git se foi liberado o acesso para a sua conta de e-mail. Se não, solicitar o acesso antes de prosseguir com o passo a passo de uma Seções abaix (Linux e/ou Windows). \n",
    "\n",
    "#### 2.2.2 `Linux`\n",
    "\n",
    "Para gerar uma chave SSH no Linux Ubuntu, você pode seguir os passos abaixo:\n",
    "\n",
    "1. Abra um terminal no seu sistema Ubuntu. Você pode fazer isso pressionando `Ctrl + Alt + T` ou procurando por \"Terminal\" no menu de aplicativos.\n",
    "\n",
    "2. No terminal, digite o seguinte comando para gerar um novo par de chaves SSH: `ssh-keygen -t rsa`\n",
    "\n",
    "1. O comando acima irá gerar um par de chaves RSA. Você também pode usar outros algoritmos de chave, como `dsa` ou `ecdsa`, se preferir. Pressione Enter para aceitar o local padrão do arquivo da chave.\n",
    "\n",
    "2. Em seguida, você será solicitado a inserir uma frase secreta (passphrase) para proteger sua chave. É recomendável usar uma senha forte e exclusiva para aumentar a segurança. Você pode pressionar Enter para deixar a frase secreta em branco, mas isso diminuirá a segurança da sua chave.\n",
    "\n",
    "3. Após fornecer a frase secreta ou pressionar Enter, o comando `ssh-keygen` irá gerar duas chaves: uma chave privada (id_rsa) e uma chave pública (id_rsa.pub). A chave privada deve ser mantida em segredo e protegida com a frase secreta, enquanto a chave pública pode ser compartilhada.\n",
    "\n",
    "4. Por padrão, as chaves SSH são salvas no diretório `~/.ssh/`. Você pode listar o conteúdo desse diretório usando o comando: `ls ~/.ssh/`\n",
    "\n",
    "1. Agora você pode usar sua chave pública (id_rsa.pub) para autenticar em servidores remotos. Você pode copiar a chave pública para o servidor remoto usando o comando `ssh-copy-id`. Por exemplo: `ssh-copy-id -i ~/.ssh/id_rsa.pub usuário@servidor`\n",
    "\n",
    "Substitua \"usuário\" pelo seu nome de usuário no servidor remoto e \"servidor\" pelo endereço IP ou nome do servidor remoto. Você será solicitado a inserir a senha do usuário no servidor remoto.\n",
    "\n",
    "Depois de copiar a chave pública, você poderá fazer login no servidor remoto sem precisar digitar a senha toda vez, desde que a chave privada esteja presente no sistema local e a frase secreta (se fornecida) esteja correta.\n",
    "\n",
    "Lembre-se de proteger sua chave privada e evitar compartilhá-la com outras pessoas. É recomendável usar autenticação por chave SSH em vez de senhas, pois oferece uma camada adicional de segurança.\n",
    "\n",
    "<p align=\"right\">(<a href=\"#readme-top\">voltar ao topo</a>)</p>"
   ]
  },
  {
   "cell_type": "markdown",
   "id": "f702836d",
   "metadata": {},
   "source": [
    "#### 2.2.3 `Windows` [2]\n",
    "\n",
    "Para gerar uma chave SSH no Windows para uso no GitLab, você pode seguir as etapas abaixo:\n",
    "\n",
    "1. Verifique se você tem o Git instalado no seu computador. Se não tiver, você pode baixá-lo e instalá-lo a partir do site oficial do Git: https://git-scm.com/downloads\n",
    "\n",
    "2. Abra o Git Bash. Você pode fazer isso clicando com o botão direito do mouse em qualquer diretório e selecionando a opção \"Git Bash Here\" no menu de contexto.\n",
    "\n",
    "3. No Git Bash, digite o seguinte comando para gerar uma nova chave SSH `ssh-keygen -t rsa -C \"seu_email@exemplo.com\"` (`@gitlab.com`)\n",
    "\n",
    "Certifique-se de substituir `seu_email@exemplo.com` pelo seu endereço de e-mail associado à sua conta do GitLab. Você pode deixar a senha em branco pressionando Enter duas vezes.\n",
    "\n",
    "4. Será solicitado que você forneça um local para salvar a chave. Você pode simplesmente pressionar Enter para aceitar o local padrão (geralmente `C:\\Usuários\\SeuNome.ssh\\id_rsa`).\n",
    "\n",
    "5. O comando irá gerar a chave SSH pública e privada. Por padrão, a chave pública será salva como `id_rsa.pub`.\n",
    "\n",
    "6. Agora, você precisa adicionar a chave SSH pública à sua conta do GitLab. Abra o GitLab no seu navegador e faça login na sua conta.\n",
    "\n",
    "7. No canto superior direito da página, clique na sua foto de perfil e vá para `Settings` (Configurações) no menu suspenso.\n",
    "\n",
    "8. No menu lateral esquerdo, clique em `SSH Keys` (Chaves SSH).\n",
    "\n",
    "9. No campo 'Key', abra o arquivo `id_rsa.pub` (ou qualquer nome que você tenha dado à sua chave pública) que você gerou anteriormente. Copie todo o conteúdo do arquivo e cole no campo \"Key\" no GitLab.\n",
    "\n",
    "10. Dê um nome para a chave, por exemplo, `Meu Computador` e clique em `Add Key` (Adicionar chave).\n",
    "\n",
    "Agora você gerou e adicionou com sucesso uma chave SSH para uso no GitLab. Você poderá usar essa chave para autenticar suas operações do GitLab usando o Git no Windows.\n",
    "\n",
    "Depois de copiar a chave pública, você poderá fazer login no servidor remoto sem precisar digitar a senha toda vez, desde que a chave privada esteja presente no sistema local e a frase secreta (se fornecida) esteja correta.\n",
    "\n",
    "Lembre-se de proteger sua chave privada e evitar compartilhá-la com outras pessoas. É recomendável usar autenticação por chave SSH em vez de senhas, pois oferece uma camada adicional de segurança.\n",
    "\n",
    "<p align=\"right\">(<a href=\"#readme-top\">voltar ao topo</a>)</p>"
   ]
  },
  {
   "cell_type": "markdown",
   "id": "611d6c7c",
   "metadata": {},
   "source": [
    "### 2.3 Atualizar pacotes `pip` e `setuptools` [3]\n",
    "\n",
    "É recomendado que sejam atualizado os pacotes, como segue:\n",
    "\n",
    "1. **Verificar a versão do `pip`:** Verifique se você está usando uma versão atualizada do `pip`. Execute o seguinte comando para atualizá-lo, caso necessário: `pip install --upgrade pip`\n",
    "\n",
    "2. **Verificar a versão do `setuptools`:** Verifique se você possui a versão mais recente do pacote `setuptools` instalada. Execute o seguinte comando para atualizá-lo, se necessário:`pip install --upgrade setuptools`\n",
    "\n",
    "3. **Verificar a versão do `wheel`:** O erro menciona que a opção `bdist_wheel` é inválida. Isso pode acontecer se o pacote `wheel` estiver desatualizado. Execute o seguinte comando para atualizar o pacote `wheel` com o comando: `pip install --upgrade wheel`\n",
    "\n",
    "4. É recomendado reiniciar o Sistema Operacional (SO)."
   ]
  },
  {
   "cell_type": "markdown",
   "id": "6f24da74",
   "metadata": {},
   "source": [
    "### 2.4 Clonar o repositório do Git e instalar o pacote `proplib`\n",
    "\n",
    "#### 2.4.1 `Linux`\n",
    "\n",
    "1. **Clone o repositório:**\n",
    "\n",
    "  - **Pelo terminal:** `git clone git@github.com:edendenis/rbf_python.git`\n",
    "\n",
    "  - **(Ou) Fazer o _download_ do repositório `.zip` pela página web do GitHub, botão ao lado do botão azul `clone` à direita\n",
    "\n",
    "  <p align=\"right\">(<a href=\"#readme-top\">voltar ao topo</a>)</p>"
   ]
  },
  {
   "cell_type": "markdown",
   "id": "fe9bc439",
   "metadata": {},
   "source": [
    "#### 2.4.2 `Windows`\n",
    "\n",
    "1. **Clone o repositório:**\n",
    "\n",
    "  - **Pelo terminal:** `git clone git@github.com:edendenis/rbf_python.git`\n",
    "\n",
    "  - **(Ou) Fazer o _download_ do repositório `.zip` pela página web do GitHub, botão ao lado do botão azul `clone` à direita\n",
    "\n",
    "  <p align=\"right\">(<a href=\"#readme-top\">voltar ao topo</a>)</p>"
   ]
  },
  {
   "cell_type": "markdown",
   "id": "6c06d161",
   "metadata": {},
   "source": [
    "<!-- COMO EXECUTAR A APLICAÇÂO -->\n",
    "## 3. Como executar a aplicação\n",
    "\n",
    "\n",
    "Use este espaço para mostrar exemplos úteis de como um projeto pode ser usado. Capturas de tela adicionais, exemplos de código e demonstrações funcionam bem neste espaço. Você também pode vincular a mais recursos.\n",
    "\n",
    "_Para mais exemplos, consulte a [Documentação](https://www.github.com/edendenis/rbf_python)_\n",
    "\n",
    "1. Abrir o arquivo `main_<nome_da_aplicacao>.ipynb` o qual está com comentários, alterar o banco de dados (existem exemplos de bancos de dados) na pasta que deverá ser utilizado para a execução e executar todas as células. \n",
    "    \n",
    "    Perceber que o <nome_da_aplicacao> trata-se, redudantemente, do nome da aplicação. Coloquei desta forma, pois quis, por ora, generalizar o arquivo `README.md` para poder criar o repositório de cada uma das aplicações que desenvolvi ao longo da minha carreira.\n",
    "\n",
    "<p align=\"right\">(<a href=\"#readme-top\">voltar ao topo</a>)</p>"
   ]
  },
  {
   "cell_type": "markdown",
   "id": "0fd06ec8",
   "metadata": {},
   "source": [
    "<!-- ROTEIRO -->\n",
    "## Roteiro\n",
    "\n",
    "- [x] Adicionar registro de alterações\n",
    "- [x] Adicionar links de volta ao topo\n",
    "- [x] Adicionar modelos adicionais com exemplos\n",
    "- [x] Suporte multilíngue\n",
    "     - [x] Espanhol\n",
    "     - [x] Inglês\n",
    "     - [x] Português\n",
    "     - [x] Português brasileiro \n",
    "\n",
    "Consulte os [problemas abertos](https://github.com/edendenis/rbfnn/issues) para obter uma lista completa dos recursos propostos (e problemas conhecidos).\n",
    "\n",
    "<p align=\"right\">(<a href=\"#readme-top\">voltar ao topo</a>)</p>\n"
   ]
  },
  {
   "cell_type": "markdown",
   "id": "389e1309",
   "metadata": {},
   "source": [
    "<!-- CONTRIBUIÇÔES -->\n",
    "## Contribuições\n",
    "\n",
    "As contribuições são o que tornam a comunidade de código aberto um lugar incrível para aprender, inspirar e criar. Qualquer contribuição que você fizer será **muito apreciada**.\n",
    "\n",
    "Se você tiver uma sugestão que possa melhorar isso, bifurque o repositório e crie uma solicitação `pull`. Você também pode simplesmente abrir um problema com a tag “aprimoramento”.\n",
    "Não se esqueça de dar uma estrela ao projeto! Obrigado novamente!\n",
    "\n",
    "1. Bifurque o projeto\n",
    "2. Crie sua ramificação de recursos (`git checkout -b feature/AmazingFeature`)\n",
    "3. Confirme suas alterações (`git commit -m 'Add some AmazingFeature'`)\n",
    "4. Envie para a filial (`git push origin feature/AmazingFeature`)\n",
    "5. Abra uma solicitação pull\n",
    "\n",
    "<p align=\"right\">(<a href=\"#readme-top\">voltar ao topo</a>)</p>\n"
   ]
  },
  {
   "cell_type": "markdown",
   "id": "21bbdf30",
   "metadata": {},
   "source": [
    "<!-- CONTATO -->\n",
    "## Contato\n",
    "\n",
    "Contato EDF Technology - [LinkedIn](https://linkedin.com/in/eden-santos-51a826149/) - contato@edftechnology.com\n",
    "\n",
    "Link do projeto: [https://github.com/edendenis/rfbnn](https://github.com/edendenis/rbf_python)\n",
    "\n",
    "<p align=\"right\">(<a href=\"#readme-top\">voltar ao topo</a>)</p>\n"
   ]
  },
  {
   "cell_type": "markdown",
   "id": "dbc25ad4",
   "metadata": {},
   "source": [
    "<!-- ACKNOWLEDGMENTS -->\n",
    "## Agradecimentos\n",
    "\n",
    "* [Best README Template](https://github.com/othneildrew/Best-README-Template?tab=readme-ov-file)\n",
    "* [Choose an Open Source License](https://choosealicense.com)\n",
    "* [GitHub Emoji Cheat Sheet](https://www.webpagefx.com/tools/emoji-cheat-sheet)\n",
    "* [Malven's Flexbox Cheatsheet](https://flexbox.malven.co/)\n",
    "* [Malven's Grid Cheatsheet](https://grid.malven.co/)\n",
    "* [Img Shields](https://shields.io)\n",
    "* [GitHub Pages](https://pages.github.com)\n",
    "* [Font Awesome](https://fontawesome.com)\n",
    "* [React Icons](https://react-icons.github.io/react-icons/search)\n",
    "\n",
    "<p align=\"right\">(<a href=\"#readme-top\">voltar ao topo</a>)</p>\n"
   ]
  },
  {
   "cell_type": "markdown",
   "id": "f338d6a5",
   "metadata": {},
   "source": [
    "## Referências\n",
    "\n",
    "[1]\tBROOMHEAD, D.; LOWE, D. Lowe. ***Multivariable functional interpolation and adaptive networks: complex systems***. .2, P. 321, 1988.  \n",
    "\n",
    "[2] HEBB, D. O.. ***Brain mechanisms and learning***. London: J. F. Delafresnaye, 1961.\n",
    "\n",
    "[3] MÁSSON, E.; WANG, Y.. ***Introduction to computation and learning in artificial neural networks***. European Journal of Operational Research, North-Holland, v. 47, 1990.\n",
    "\n",
    "[4] HAYKIN, S.. ***Redes neurais: princípios e prática***. Tradução de Paulo Martins Engel. 2. ed. Porto Alegre: Bookman, 2001.\n",
    "\n",
    "[5] BARONE, D. A. C.. ***Sociedades artificiais: a nova fronteira da inteligência nas máquinas***. Porto Alegre: Bookman, 2003.\n",
    "\n",
    "[6] RICIERI, A. P.. ***Radial basis function (rbf)***. Prandiano, São Paulo, 2013.\n",
    "\n",
    "[7] SANTOS, E. D. F. da S. L.. ***Curso de python: radial basis function (rbf)***. EDF Tecnologia, São Paulo, 2013.\n",
    "\n",
    "[8] Universidade de São Paulo, Insituto de Ciências Matemáticas e de Computação. ***Redes neurais artificiais:*** Disponível em: <http://www.icmc.usp.br/pessoas/andre/research/neural/>.  Acessado em: 02/05/2014.\n",
    "\n",
    "[9] Universidade Estadual de Maringá, Departamento de Informática. ***Neurais:*** Disponível em: <http://www.din.uem.br/ia/neurais/>. Acessado em: 09/05/2014.\n",
    "\n",
    "[10] SANTOS, E. D. F. da S. L.; T., G. G.; MANCINI, W. D.. ***Comunicação da informação nas redes neurais artificiais***. Disciplina: BC0506 Comunicação e Redes. Prof. Dr. Itana Stiubiener. Santo André, SP, Brasil, 09 de maio de 2014.\n",
    "\n",
    "[11] SANTOS, E. D. F. da S. L.. ***Projeto dirigido: funções de base radial.*** Universidade Federal do ABC (UFABC), Santo André, 2014.\n",
    "\n",
    "[12] USER: OTHENEILDREW. ***Best readme template***. Disponível em: <https://github.com/othneildrew/Best-README-Template>. Acessado em: 21/02/2024 11:01\n",
    "\n",
    "<p align=\"right\">(<a href=\"#readme-top\">voltar ao topo</a>)</p>\n"
   ]
  },
  {
   "cell_type": "code",
   "execution_count": null,
   "id": "95fb1570",
   "metadata": {},
   "outputs": [],
   "source": [
    "%run convert_ipynb_to_md_and_py.ipynb"
   ]
  }
 ],
 "metadata": {
  "jupytext": {
   "cell_metadata_filter": "-all",
   "encoding": "# coding: utf-8",
   "executable": "/usr/bin/env python",
   "main_language": "python",
   "notebook_metadata_filter": "-all"
  },
  "kernelspec": {
   "display_name": "base",
   "language": "python",
   "name": "python3"
  },
  "language_info": {
   "codemirror_mode": {
    "name": "ipython",
    "version": 3
   },
   "file_extension": ".py",
   "mimetype": "text/x-python",
   "name": "python",
   "nbconvert_exporter": "python",
   "pygments_lexer": "ipython3",
   "version": "3.10.12"
  }
 },
 "nbformat": 4,
 "nbformat_minor": 5
}
